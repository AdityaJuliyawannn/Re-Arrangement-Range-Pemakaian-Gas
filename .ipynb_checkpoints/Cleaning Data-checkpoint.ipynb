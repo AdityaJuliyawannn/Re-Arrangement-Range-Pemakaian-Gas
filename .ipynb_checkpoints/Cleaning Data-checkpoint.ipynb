{
 "cells": [
  {
   "cell_type": "code",
   "execution_count": 11,
   "id": "144748cb-ff65-4f8d-a249-587fc0e447fd",
   "metadata": {},
   "outputs": [],
   "source": [
    "import pandas as pd\n",
    "import matplotlib.pyplot as plt\n",
    "import numpy as np"
   ]
  },
  {
   "cell_type": "code",
   "execution_count": null,
   "id": "a36dd905-6c2d-43d3-aea1-b3a71f1e7eb2",
   "metadata": {},
   "outputs": [],
   "source": [
    "df = pd.read_excel(r\"C:\\Users\\Aditya P J\\Documents\\Magang dan KKN\\Magang\\Proyek\\Realiasi Bronze 1 Bronze 2_olah.xlsx\")\n",
    "df.head(25)"
   ]
  },
  {
   "cell_type": "code",
   "execution_count": null,
   "id": "b4f85c16-c07c-457a-aa4e-b7dde9118b42",
   "metadata": {},
   "outputs": [],
   "source": [
    "# Set the column names using row 0\n",
    "df.columns = df.iloc[0]\n",
    "\n",
    "# Drop the first row (which was the header row) from the data\n",
    "df = df.drop(0)\n",
    "\n",
    "# Reset the index if needed\n",
    "df = df.reset_index(drop=True)\n",
    "\n",
    "# Now display the first few rows to verify\n",
    "df.head()"
   ]
  }
 ],
 "metadata": {
  "kernelspec": {
   "display_name": "Python 3 (ipykernel)",
   "language": "python",
   "name": "python3"
  },
  "language_info": {
   "codemirror_mode": {
    "name": "ipython",
    "version": 3
   },
   "file_extension": ".py",
   "mimetype": "text/x-python",
   "name": "python",
   "nbconvert_exporter": "python",
   "pygments_lexer": "ipython3",
   "version": "3.12.4"
  }
 },
 "nbformat": 4,
 "nbformat_minor": 5
}
