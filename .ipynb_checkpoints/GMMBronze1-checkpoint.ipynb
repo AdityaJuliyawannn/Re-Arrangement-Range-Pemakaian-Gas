{
 "cells": [
  {
   "cell_type": "code",
   "execution_count": null,
   "id": "3522ab70-3562-4297-b45d-c4960cc1ae4c",
   "metadata": {},
   "outputs": [],
   "source": []
  },
  {
   "cell_type": "code",
   "execution_count": null,
   "id": "501d057e-00a9-4a01-b957-b036218c7c0f",
   "metadata": {},
   "outputs": [],
   "source": []
  },
  {
   "cell_type": "code",
   "execution_count": null,
   "id": "8015d983-c025-442b-a850-045ba8d51f02",
   "metadata": {},
   "outputs": [],
   "source": [
    "!pip install mapclassify\n",
    "\n",
    "import mapclassify\n",
    "from mapclassify import NaturalBreaks\n",
    "\n",
    "# Terapkan Jenks Natural Breaks\n",
    "jenks = NaturalBreaks(y=df['Terukur m3'], k=3)  # ganti k jika ingin jumlah range berbeda\n",
    "df['Jenks_Cluster'] = jenks.yb  # hasil cluster berbasis rentang\n",
    "\n",
    "# Visualisasi\n",
    "plt.figure(figsize=(10, 6))\n",
    "sns.histplot(data=df, x='Terukur m3', hue='Jenks_Cluster', bins=100, palette='Accent', multiple='stack')\n",
    "plt.title('Distribusi Volume per Jenks Natural Breaks')\n",
    "plt.xlabel('Volume Terukur (m³)')\n",
    "plt.ylabel('Jumlah Pelanggan')\n",
    "plt.grid(True)\n",
    "plt.show()\n",
    "\n",
    "# Cek batas-batas klasifikasi\n",
    "print(\"Batas-batas Jenks:\", jenks.bins)\n"
   ]
  }
 ],
 "metadata": {
  "kernelspec": {
   "display_name": "Python 3 (ipykernel)",
   "language": "python",
   "name": "python3"
  },
  "language_info": {
   "codemirror_mode": {
    "name": "ipython",
    "version": 3
   },
   "file_extension": ".py",
   "mimetype": "text/x-python",
   "name": "python",
   "nbconvert_exporter": "python",
   "pygments_lexer": "ipython3",
   "version": "3.12.4"
  }
 },
 "nbformat": 4,
 "nbformat_minor": 5
}
